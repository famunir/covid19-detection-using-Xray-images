{
 "cells": [
  {
   "cell_type": "code",
   "execution_count": 1,
   "metadata": {},
   "outputs": [
    {
     "name": "stderr",
     "output_type": "stream",
     "text": [
      "/usr/local/lib/python3.5/dist-packages/tensorflow/python/framework/dtypes.py:516: FutureWarning: Passing (type, 1) or '1type' as a synonym of type is deprecated; in a future version of numpy, it will be understood as (type, (1,)) / '(1,)type'.\n",
      "  _np_qint8 = np.dtype([(\"qint8\", np.int8, 1)])\n",
      "/usr/local/lib/python3.5/dist-packages/tensorflow/python/framework/dtypes.py:517: FutureWarning: Passing (type, 1) or '1type' as a synonym of type is deprecated; in a future version of numpy, it will be understood as (type, (1,)) / '(1,)type'.\n",
      "  _np_quint8 = np.dtype([(\"quint8\", np.uint8, 1)])\n",
      "/usr/local/lib/python3.5/dist-packages/tensorflow/python/framework/dtypes.py:518: FutureWarning: Passing (type, 1) or '1type' as a synonym of type is deprecated; in a future version of numpy, it will be understood as (type, (1,)) / '(1,)type'.\n",
      "  _np_qint16 = np.dtype([(\"qint16\", np.int16, 1)])\n",
      "/usr/local/lib/python3.5/dist-packages/tensorflow/python/framework/dtypes.py:519: FutureWarning: Passing (type, 1) or '1type' as a synonym of type is deprecated; in a future version of numpy, it will be understood as (type, (1,)) / '(1,)type'.\n",
      "  _np_quint16 = np.dtype([(\"quint16\", np.uint16, 1)])\n",
      "/usr/local/lib/python3.5/dist-packages/tensorflow/python/framework/dtypes.py:520: FutureWarning: Passing (type, 1) or '1type' as a synonym of type is deprecated; in a future version of numpy, it will be understood as (type, (1,)) / '(1,)type'.\n",
      "  _np_qint32 = np.dtype([(\"qint32\", np.int32, 1)])\n",
      "/usr/local/lib/python3.5/dist-packages/tensorflow/python/framework/dtypes.py:525: FutureWarning: Passing (type, 1) or '1type' as a synonym of type is deprecated; in a future version of numpy, it will be understood as (type, (1,)) / '(1,)type'.\n",
      "  np_resource = np.dtype([(\"resource\", np.ubyte, 1)])\n",
      "/usr/local/lib/python3.5/dist-packages/tensorboard/compat/tensorflow_stub/dtypes.py:541: FutureWarning: Passing (type, 1) or '1type' as a synonym of type is deprecated; in a future version of numpy, it will be understood as (type, (1,)) / '(1,)type'.\n",
      "  _np_qint8 = np.dtype([(\"qint8\", np.int8, 1)])\n",
      "/usr/local/lib/python3.5/dist-packages/tensorboard/compat/tensorflow_stub/dtypes.py:542: FutureWarning: Passing (type, 1) or '1type' as a synonym of type is deprecated; in a future version of numpy, it will be understood as (type, (1,)) / '(1,)type'.\n",
      "  _np_quint8 = np.dtype([(\"quint8\", np.uint8, 1)])\n",
      "/usr/local/lib/python3.5/dist-packages/tensorboard/compat/tensorflow_stub/dtypes.py:543: FutureWarning: Passing (type, 1) or '1type' as a synonym of type is deprecated; in a future version of numpy, it will be understood as (type, (1,)) / '(1,)type'.\n",
      "  _np_qint16 = np.dtype([(\"qint16\", np.int16, 1)])\n",
      "/usr/local/lib/python3.5/dist-packages/tensorboard/compat/tensorflow_stub/dtypes.py:544: FutureWarning: Passing (type, 1) or '1type' as a synonym of type is deprecated; in a future version of numpy, it will be understood as (type, (1,)) / '(1,)type'.\n",
      "  _np_quint16 = np.dtype([(\"quint16\", np.uint16, 1)])\n",
      "/usr/local/lib/python3.5/dist-packages/tensorboard/compat/tensorflow_stub/dtypes.py:545: FutureWarning: Passing (type, 1) or '1type' as a synonym of type is deprecated; in a future version of numpy, it will be understood as (type, (1,)) / '(1,)type'.\n",
      "  _np_qint32 = np.dtype([(\"qint32\", np.int32, 1)])\n",
      "/usr/local/lib/python3.5/dist-packages/tensorboard/compat/tensorflow_stub/dtypes.py:550: FutureWarning: Passing (type, 1) or '1type' as a synonym of type is deprecated; in a future version of numpy, it will be understood as (type, (1,)) / '(1,)type'.\n",
      "  np_resource = np.dtype([(\"resource\", np.ubyte, 1)])\n"
     ]
    }
   ],
   "source": [
    "# Reading and Prepraing the dataset\n",
    "\n",
    "import numpy as np \n",
    "import matplotlib.pyplot as plt\n",
    "import cv2\n",
    "import os\n",
    "import random\n",
    "from sklearn.preprocessing import LabelBinarizer\n",
    "from tensorflow.keras.utils import to_categorical\n",
    "from tensorflow.keras.preprocessing.image import ImageDataGenerator\n",
    "from sklearn.model_selection import train_test_split\n",
    "\n",
    "DATADIR = \"/home/covid19/\"\n",
    "CATEGORIES = [\"normal\",\"covid\"]\n",
    "IMG_SIZE = 512\n",
    "\n",
    "training_data = []\n",
    "\n",
    "def create_training_data():\n",
    "    for category in CATEGORIES:\n",
    "        path = os.path.join(DATADIR, category)\n",
    "        class_num = CATEGORIES.index(category)\n",
    "\n",
    "        for img in os.listdir(path):\n",
    "            try:\n",
    "                image = cv2.imread(os.path.join(path, img))\n",
    "                image = cv2.cvtColor(image, cv2.COLOR_BGR2RGB)\n",
    "                new_image = cv2.resize(image, (IMG_SIZE, IMG_SIZE))\n",
    "                training_data.append([new_image, class_num])\n",
    "            except Exception as e:\n",
    "                pass\n",
    "            \n",
    "create_training_data()\n",
    "random.shuffle(training_data)"
   ]
  },
  {
   "cell_type": "code",
   "execution_count": 2,
   "metadata": {},
   "outputs": [],
   "source": [
    "input_data = []\n",
    "desired_labels = []\n",
    "for features, label in training_data:\n",
    "    input_data.append(features)\n",
    "    desired_labels.append(label)\n",
    "\n",
    "input_data = np.array(input_data).reshape(-1, IMG_SIZE, IMG_SIZE, 3)\n",
    "input_data = input_data/255.0\n",
    "\n",
    "lb = LabelBinarizer()\n",
    "desired_labels = lb.fit_transform(desired_labels)\n",
    "desired_labels = to_categorical(desired_labels)\n",
    "\n",
    "(train_input, test_input, train_label, test_label) = train_test_split(input_data, desired_labels, test_size=0.20, \n",
    "                                                                      stratify=desired_labels, random_state=42)\n",
    "\n",
    "data_augmentation = ImageDataGenerator(rotation_range = 15, fill_mode = \"nearest\")"
   ]
  },
  {
   "cell_type": "code",
   "execution_count": null,
   "metadata": {},
   "outputs": [],
   "source": [
    "print(input_data.shape)"
   ]
  },
  {
   "cell_type": "code",
   "execution_count": null,
   "metadata": {},
   "outputs": [],
   "source": [
    "plt.imshow(input_data(1,:))\n",
    "plt.show()"
   ]
  },
  {
   "cell_type": "code",
   "execution_count": 11,
   "metadata": {},
   "outputs": [
    {
     "name": "stdout",
     "output_type": "stream",
     "text": [
      "Epoch 1/10\n",
      "14/14 [==============================] - 25s 2s/step - loss: 0.7404 - acc: 0.7808 - val_loss: 0.2489 - val_acc: 0.8723\n",
      "Epoch 2/10\n",
      "14/14 [==============================] - 23s 2s/step - loss: 0.1048 - acc: 0.9863 - val_loss: 0.2334 - val_acc: 0.8936\n",
      "Epoch 3/10\n",
      "14/14 [==============================] - 22s 2s/step - loss: 0.1868 - acc: 0.9393 - val_loss: 0.4510 - val_acc: 0.6809\n",
      "Epoch 4/10\n",
      "14/14 [==============================] - 22s 2s/step - loss: 0.0805 - acc: 0.9680 - val_loss: 0.1740 - val_acc: 0.9787\n",
      "Epoch 5/10\n",
      "14/14 [==============================] - 22s 2s/step - loss: 0.0708 - acc: 0.9772 - val_loss: 0.1709 - val_acc: 0.9574\n",
      "Epoch 6/10\n",
      "14/14 [==============================] - 22s 2s/step - loss: 0.0705 - acc: 0.9772 - val_loss: 0.1251 - val_acc: 0.9574\n",
      "Epoch 7/10\n",
      "14/14 [==============================] - 22s 2s/step - loss: 0.0511 - acc: 0.9863 - val_loss: 0.1970 - val_acc: 0.9362\n",
      "Epoch 8/10\n",
      "14/14 [==============================] - 21s 2s/step - loss: 0.0730 - acc: 0.9907 - val_loss: 0.1168 - val_acc: 0.9574\n",
      "Epoch 9/10\n",
      "14/14 [==============================] - 22s 2s/step - loss: 0.0811 - acc: 0.9777 - val_loss: 0.1467 - val_acc: 0.9787\n",
      "Epoch 10/10\n",
      "14/14 [==============================] - 22s 2s/step - loss: 0.0322 - acc: 0.9863 - val_loss: 0.1594 - val_acc: 0.9787\n"
     ]
    }
   ],
   "source": [
    "# Model design and training\n",
    "\n",
    "from tensorflow.keras.layers import Input, Dense, Flatten, Dropout, AveragePooling2D\n",
    "from tensorflow.keras. models import Model\n",
    "from tensorflow.keras.optimizers import Adam\n",
    "from tensorflow.keras.applications import InceptionV3\n",
    "import tensorflow as tf\n",
    "import keras\n",
    "\n",
    "init_learning_rate = 1e-3\n",
    "total_epochs = 10\n",
    "batch = 16\n",
    "\n",
    "base_model = InceptionV3(weights=\"imagenet\", include_top=False, input_tensor=Input(shape=(512, 512, 3)))\n",
    "#base_model.summary()\n",
    "\n",
    "head = base_model.output\n",
    "head = AveragePooling2D(pool_size = (4, 4))(head)\n",
    "head = Flatten(name = \"flatten\")(head)\n",
    "head = Dense(64, activation = \"relu\")(head)\n",
    "head = Dropout(0.5)(head)\n",
    "head = Dense(2, activation = \"softmax\")(head)\n",
    "\n",
    "model = Model(inputs = base_model.input, outputs = head)\n",
    "\n",
    "for layer in base_model.layers:\n",
    "    layer.trainable = False\n",
    "    \n",
    "adam_opt = Adam(lr = init_learning_rate, decay = init_learning_rate / total_epochs)\n",
    "model.compile(loss = \"binary_crossentropy\", optimizer = adam_opt, metrics = [\"accuracy\"])\n",
    "#model.summary()\n",
    "\n",
    "H = model.fit_generator(data_augmentation.flow(train_input, train_label, batch_size = batch),\n",
    "                   steps_per_epoch = len(input_data) // batch, validation_data = (test_input, test_label),\n",
    "                   validation_steps = len(test_input) // batch, epochs = total_epochs)"
   ]
  },
  {
   "cell_type": "code",
   "execution_count": null,
   "metadata": {},
   "outputs": [],
   "source": [
    "type(base_model)\n",
    "model.metrics_names"
   ]
  },
  {
   "cell_type": "code",
   "execution_count": 12,
   "metadata": {},
   "outputs": [
    {
     "data": {
      "text/plain": [
       "<matplotlib.legend.Legend at 0x7f14ce78a978>"
      ]
     },
     "execution_count": 12,
     "metadata": {},
     "output_type": "execute_result"
    },
    {
     "data": {
      "image/png": "[encoded data removed]",
      "text/plain": [
       "<Figure size 432x288 with 1 Axes>"
      ]
     },
     "metadata": {
      "needs_background": "light"
     },
     "output_type": "display_data"
    }
   ],
   "source": [
    "# plot the training loss and accuracy\n",
    "N = total_epochs\n",
    "#plt.style.use(\"ggplot\")\n",
    "plt.figure()\n",
    "plt.plot(np.arange(0, N), H.history[\"acc\"], label=\"train_acc\")\n",
    "plt.plot(np.arange(0, N), H.history[\"val_acc\"], label=\"val_acc\")\n",
    "#plt.title(\"Accuracy comparison for Inceptionv3\")\n",
    "plt.xlabel(\"Epochs\")\n",
    "plt.ylabel(\"Accuracy\")\n",
    "plt.legend(loc=\"lower right\")\n",
    "#plt.savefig(fname = \"/home/mapsrd/covid19/accuracy_inceptionv3.png\", dpi = 900)\n",
    "#model.save(\"covid_inceptionv3.h5\")"
   ]
  },
  {
   "cell_type": "code",
   "execution_count": 13,
   "metadata": {},
   "outputs": [
    {
     "data": {
      "text/plain": [
       "<matplotlib.legend.Legend at 0x7f14effd3cc0>"
      ]
     },
     "execution_count": 13,
     "metadata": {},
     "output_type": "execute_result"
    },
    {
     "data": {
      "image/png": "[encoded data removed]",
      "text/plain": [
       "<Figure size 432x288 with 1 Axes>"
      ]
     },
     "metadata": {
      "needs_background": "light"
     },
     "output_type": "display_data"
    }
   ],
   "source": [
    "# plot the training loss and accuracy\n",
    "N = total_epochs\n",
    "#plt.style.use(\"ggplot\")\n",
    "plt.figure()\n",
    "plt.plot(np.arange(0, N), H.history[\"loss\"], label=\"train_loss\")\n",
    "plt.plot(np.arange(0, N), H.history[\"val_loss\"], label=\"val_loss\")\n",
    "#plt.title(\"Loss comparison for Inceptionv3\")\n",
    "plt.xlabel(\"Epochs\")\n",
    "plt.ylabel(\"Loss\")\n",
    "plt.legend(loc=\"upper right\")\n",
    "#plt.savefig(fname = \"/home/mapsrd/covid19/loss_inceptionv3.png\", dpi = 900)\n",
    "#model.save(\"covid_inceptionv3.h5\")"
   ]
  },
  {
   "cell_type": "code",
   "execution_count": 14,
   "metadata": {},
   "outputs": [],
   "source": [
    "model.save(\"covid_inceptionv3.h5\")"
   ]
  },
  {
   "cell_type": "code",
   "execution_count": null,
   "metadata": {},
   "outputs": [],
   "source": []
  }
 ],
 "metadata": {
  "kernelspec": {
   "display_name": "Python 3",
   "language": "python",
   "name": "python3"
  },
  "language_info": {
   "codemirror_mode": {
    "name": "ipython",
    "version": 3
   },
   "file_extension": ".py",
   "mimetype": "text/x-python",
   "name": "python",
   "nbconvert_exporter": "python",
   "pygments_lexer": "ipython3",
   "version": "3.5.2"
  }
 },
 "nbformat": 4,
 "nbformat_minor": 2
}
